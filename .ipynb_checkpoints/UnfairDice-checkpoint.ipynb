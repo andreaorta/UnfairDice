{
 "cells": [
  {
   "cell_type": "markdown",
   "metadata": {},
   "source": [
    "# Imports and instantiation of a random number generator"
   ]
  },
  {
   "cell_type": "code",
   "execution_count": 1,
   "metadata": {},
   "outputs": [],
   "source": [
    "# To run all the expressions in each cell. \n",
    "# To return to the default behavior, write: InteractiveShell.ast_node_interactivity = \"last_expr\"\n",
    "\n",
    "from IPython.core.interactiveshell import InteractiveShell\n",
    "InteractiveShell.ast_node_interactivity = \"all\""
   ]
  },
  {
   "cell_type": "code",
   "execution_count": 2,
   "metadata": {},
   "outputs": [],
   "source": [
    "import numpy as np\n",
    "from numpy.random import default_rng\n",
    "import matplotlib.pyplot as plt\n",
    "import seaborn as sns\n",
    "import pandas as pd"
   ]
  },
  {
   "cell_type": "code",
   "execution_count": 3,
   "metadata": {},
   "outputs": [],
   "source": [
    "seed = 42\n",
    "gen = default_rng(seed)"
   ]
  },
  {
   "cell_type": "markdown",
   "metadata": {},
   "source": [
    "# Drawing numbers"
   ]
  },
  {
   "cell_type": "markdown",
   "metadata": {},
   "source": [
    "### Uniform distribution"
   ]
  },
  {
   "cell_type": "code",
   "execution_count": 4,
   "metadata": {},
   "outputs": [],
   "source": [
    "values = gen.uniform(0, 1, 10000)"
   ]
  },
  {
   "cell_type": "code",
   "execution_count": 5,
   "metadata": {},
   "outputs": [
    {
     "data": {
      "image/png": "[encoded data removed]",
      "text/plain": [
       "<Figure size 432x288 with 1 Axes>"
      ]
     },
     "metadata": {
      "needs_background": "light"
     },
     "output_type": "display_data"
    }
   ],
   "source": [
    "sns.distplot(values)\n",
    "plt.show();"
   ]
  },
  {
   "cell_type": "code",
   "execution_count": 6,
   "metadata": {},
   "outputs": [],
   "source": [
    "values = gen.normal(0, 1, 10000)"
   ]
  },
  {
   "cell_type": "code",
   "execution_count": 7,
   "metadata": {},
   "outputs": [
    {
     "data": {
      "image/png": "[encoded data removed]",
      "text/plain": [
       "<Figure size 432x288 with 1 Axes>"
      ]
     },
     "metadata": {
      "needs_background": "light"
     },
     "output_type": "display_data"
    }
   ],
   "source": [
    "sns.distplot(values)\n",
    "plt.show();"
   ]
  },
  {
   "cell_type": "code",
   "execution_count": null,
   "metadata": {},
   "outputs": [],
   "source": []
  },
  {
   "cell_type": "code",
   "execution_count": null,
   "metadata": {},
   "outputs": [],
   "source": []
  },
  {
   "cell_type": "code",
   "execution_count": null,
   "metadata": {},
   "outputs": [],
   "source": []
  },
  {
   "cell_type": "markdown",
   "metadata": {},
   "source": [
    "### Simulating unfair dice"
   ]
  },
  {
   "cell_type": "markdown",
   "metadata": {},
   "source": [
    "Define the weights + simple function to check that a set of weights is legitimate."
   ]
  },
  {
   "cell_type": "code",
   "execution_count": 8,
   "metadata": {},
   "outputs": [],
   "source": [
    "std_weights = np.array([1/6]*6)"
   ]
  },
  {
   "cell_type": "code",
   "execution_count": 9,
   "metadata": {},
   "outputs": [],
   "source": [
    "# Generating random weights\n",
    "\n",
    "def gen_weights(n_weights=6, sum=1): \n",
    "    arr = gen.uniform(0,1,n_weights)\n",
    "    return arr/(arr.sum())"
   ]
  },
  {
   "cell_type": "code",
   "execution_count": 10,
   "metadata": {},
   "outputs": [],
   "source": [
    "def check_weights(weights):\n",
    "    return np.isclose(weights.sum(), 1.0)    # The .isclose() method accommodates small imprecisions"
   ]
  },
  {
   "cell_type": "code",
   "execution_count": 11,
   "metadata": {},
   "outputs": [
    {
     "name": "stdout",
     "output_type": "stream",
     "text": [
      "Weights: [0.17447928 0.09322567 0.00414993 0.06721468 0.41501524 0.2459152 ]   Sum to 1? True\n",
      "Weights: [0.06304619 0.2960062  0.2498492  0.03628259 0.08532763 0.26948819]   Sum to 1? True\n",
      "Weights: [0.23854655 0.32574557 0.02626835 0.26713347 0.02632416 0.1159819 ]   Sum to 1? True\n",
      "Weights: [0.29203667 0.27660799 0.00082391 0.07856293 0.30289266 0.04907584]   Sum to 1? True\n",
      "Weights: [0.15876465 0.08945172 0.05421625 0.40697053 0.02983925 0.26075761]   Sum to 1? True\n"
     ]
    }
   ],
   "source": [
    "for i in range(5):\n",
    "    w = gen_weights()\n",
    "    print('Weights: {}'.format(w) + '   Sum to 1? {}'.format(check_weights(w)))"
   ]
  },
  {
   "cell_type": "markdown",
   "metadata": {},
   "source": [
    "Of course obtaining by chance a roughly uniform distribution of weights is extremely unlikely if n_weights is larger than 2 or 3. \n",
    "\n",
    "For this reason it is useful to code a function generating weights that are just moderately off those of a fair dice. The *upto* parameter specifies the allowed relative discrepancy (default is 10%)."
   ]
  },
  {
   "cell_type": "code",
   "execution_count": 12,
   "metadata": {},
   "outputs": [],
   "source": [
    "def gen_close_weights(upto=0.1, n_weights=6, sum=1):\n",
    "    arr_perc = gen.uniform(-upto, upto, n_weights)\n",
    "    arr = np.array([(1 + arr_perc[i])/n_weights for i in range(n_weights)])\n",
    "    return arr/(arr.sum())"
   ]
  },
  {
   "cell_type": "code",
   "execution_count": 13,
   "metadata": {},
   "outputs": [
    {
     "name": "stdout",
     "output_type": "stream",
     "text": [
      "Weights: [0.17109881 0.15017287 0.16914672 0.15928275 0.17574064 0.17455821]   Sum to 1? True\n",
      "Weights: [0.17585123 0.16272223 0.17680269 0.17040609 0.16205854 0.15215922]   Sum to 1? True\n",
      "Weights: [0.1538222  0.16003942 0.16166235 0.18281311 0.18525205 0.15641087]   Sum to 1? True\n",
      "Weights: [0.17328165 0.16576085 0.15914091 0.1736611  0.16598858 0.16216691]   Sum to 1? True\n",
      "Weights: [0.16307765 0.16428674 0.18738507 0.16326852 0.156941   0.16504103]   Sum to 1? True\n"
     ]
    }
   ],
   "source": [
    "for i in range(5):\n",
    "    w = gen_close_weights()\n",
    "    print('Weights: {}'.format(w) + '   Sum to 1? {}'.format(check_weights(w)))"
   ]
  },
  {
   "cell_type": "code",
   "execution_count": 14,
   "metadata": {},
   "outputs": [
    {
     "data": {
      "text/plain": [
       "array([0.16222985, 0.15901848, 0.17705845, 0.16021094, 0.17553567,\n",
       "       0.16594662])"
      ]
     },
     "execution_count": 14,
     "metadata": {},
     "output_type": "execute_result"
    },
    {
     "data": {
      "text/plain": [
       "array([0.16666667, 0.16666667, 0.16666667, 0.16666667, 0.16666667,\n",
       "       0.16666667])"
      ]
     },
     "execution_count": 14,
     "metadata": {},
     "output_type": "execute_result"
    }
   ],
   "source": [
    "# Standard weights are obtained setting upto=0\n",
    "\n",
    "gen_close_weights()\n",
    "gen_close_weights(upto=0)"
   ]
  },
  {
   "cell_type": "markdown",
   "metadata": {},
   "source": [
    "#### Writing the drawing function from scratch\n",
    "\n",
    "Splitting the interval [0,1] into six bins of variable width (based on my desired weights) and translating the outcome of the draws based on that choice of bins."
   ]
  },
  {
   "cell_type": "code",
   "execution_count": 15,
   "metadata": {},
   "outputs": [],
   "source": [
    "# Caveman's approach\n",
    "def dice_roll_caveman(weights, size=1000):\n",
    "    \n",
    "    bins_l = np.array([sum(weights[:i]) for i in range(len(weights))])\n",
    "    array = np.empty(size)\n",
    "    for i in range(size):\n",
    "        drawn = gen.uniform()\n",
    "        if drawn < bins_l[1]:\n",
    "            array[i] = 1\n",
    "        elif drawn < bins_l[2]:\n",
    "            array[i] = 2\n",
    "        elif drawn < bins_l[3]:\n",
    "            array[i] = 3\n",
    "        elif drawn < bins_l[4]:\n",
    "            array[i] = 4\n",
    "        elif drawn < bins_l[5]:\n",
    "            array[i] = 5\n",
    "        else:\n",
    "            array[i] = 6\n",
    "\n",
    "    return array\n",
    "    \n",
    "# Using sorting\n",
    "def dice_roll_sorting(weights, size=1000):\n",
    "    \n",
    "    bins_l = np.array([sum(weights[:i]) for i in range(len(weights))])\n",
    "    array = np.empty(size)\n",
    "    for i in range(size):\n",
    "        drawn = gen.uniform()\n",
    "        lst = np.sort(np.append(bins_l, drawn))\n",
    "        array[i] = np.where(lst == drawn)[0]   # [0] is to avoid ValueError: setting an array element with a sequence.\n",
    "    \n",
    "    return array"
   ]
  },
  {
   "cell_type": "markdown",
   "metadata": {},
   "source": [
    "#### Taking advantage of a built-in method [(link)](https://stackoverflow.com/questions/4265988/generate-random-numbers-with-a-given-numerical-distribution/41852266)"
   ]
  },
  {
   "cell_type": "code",
   "execution_count": 16,
   "metadata": {},
   "outputs": [],
   "source": [
    "# Using the .choice() method\n",
    "def dice_roll(weights, size=6000):\n",
    "    return gen.choice(np.arange(1, 7), size=size, p=weights)"
   ]
  },
  {
   "cell_type": "markdown",
   "metadata": {},
   "source": [
    "#### Timing shows that the built-in method is the fastest, but the caveman's approach clearly beats the sorting!"
   ]
  },
  {
   "cell_type": "code",
   "execution_count": 17,
   "metadata": {},
   "outputs": [
    {
     "name": "stdout",
     "output_type": "stream",
     "text": [
      "3.49 ms ± 114 µs per loop (mean ± std. dev. of 7 runs, 100 loops each)\n",
      "15.2 ms ± 414 µs per loop (mean ± std. dev. of 7 runs, 100 loops each)\n",
      "78.2 µs ± 1.79 µs per loop (mean ± std. dev. of 7 runs, 10000 loops each)\n"
     ]
    }
   ],
   "source": [
    "weights = gen_weights()\n",
    "\n",
    "%timeit dice_roll_caveman(weights, size=1000)\n",
    "\n",
    "%timeit dice_roll_sorting(weights, size = 1000)\n",
    "\n",
    "%timeit dice_roll(weights, size = 1000)"
   ]
  },
  {
   "cell_type": "markdown",
   "metadata": {},
   "source": [
    "### Plotting"
   ]
  },
  {
   "cell_type": "code",
   "execution_count": 18,
   "metadata": {},
   "outputs": [],
   "source": [
    "sns.set_style('whitegrid')"
   ]
  },
  {
   "cell_type": "code",
   "execution_count": 19,
   "metadata": {},
   "outputs": [
    {
     "name": "stdout",
     "output_type": "stream",
     "text": [
      "The weights are approximately (0.27, 0.04, 0.3, 0.02, 0.22, 0.15)\n"
     ]
    },
    {
     "data": {
      "image/png": "[encoded data removed]",
      "text/plain": [
       "<Figure size 432x288 with 1 Axes>"
      ]
     },
     "metadata": {},
     "output_type": "display_data"
    }
   ],
   "source": [
    "weights = gen_weights()\n",
    "print('The weights are approximately (' + ', '.join(map(str,weights.round(2))) + ')')\n",
    "\n",
    "values = dice_roll(weights, size=1000000)\n",
    "sns.countplot(values, palette='Greens')\n",
    "plt.show();"
   ]
  },
  {
   "cell_type": "code",
   "execution_count": 20,
   "metadata": {},
   "outputs": [
    {
     "name": "stdout",
     "output_type": "stream",
     "text": [
      "The weights are approximately (0.17, 0.17, 0.16, 0.17, 0.15, 0.18)\n"
     ]
    },
    {
     "data": {
      "image/png": "[encoded data removed]",
      "text/plain": [
       "<Figure size 432x288 with 1 Axes>"
      ]
     },
     "metadata": {},
     "output_type": "display_data"
    }
   ],
   "source": [
    "weights = gen_close_weights()\n",
    "print('The weights are approximately (' + ', '.join(map(str,weights.round(2))) + ')')\n",
    "\n",
    "values = dice_roll(weights, size=1000000)\n",
    "sns.countplot(values, palette='Greens')\n",
    "plt.show();"
   ]
  },
  {
   "cell_type": "markdown",
   "metadata": {},
   "source": [
    "## Statistical analysis"
   ]
  },
  {
   "cell_type": "markdown",
   "metadata": {},
   "source": [
    "I should probably use the concept of bootstrap replicates:\n",
    "* *dice_roll* generates a bunch of values\n",
    "* resampling the array gives a bootstrap sample, from which we can compute some statistic, e.g. mean and stdev. We can  plot histograms of such bootstrap replicates.\n",
    "* once we have computed mean and stdev of a uniform distribution we can test the hypothesis that our dice is fair. We should probably perform the two analyses independently and compare the results."
   ]
  },
  {
   "cell_type": "markdown",
   "metadata": {},
   "source": [
    "### Define a good test statistic\n",
    "\n",
    "We choose the sum of squares of differences between the observed number of 1's, ..., 6's and the expected number (under the assumption that the dice is fair), averaged over the size of the sample. Call it ASSD for Averaged Sum of Squares of the Difference.\n",
    "ASSD is going to be a small number if the weights are close to those of a fair dice and grow as the weights depart more and more from the standard value of 1/6."
   ]
  },
  {
   "cell_type": "code",
   "execution_count": 21,
   "metadata": {},
   "outputs": [],
   "source": [
    "# def compute_ASSD(sample):\n",
    "#     size = len(sample)\n",
    "#     expected = np.array([size/6]*6)\n",
    "#     counts = np.unique(sample, return_counts=True)[1]   # use function counting unique values\n",
    "    \n",
    "#     return np.sum((counts-expected)**2)/size\n",
    "\n",
    "# The code above works, except when some value is never drawn, as at the end it'd be subtracting arrays of different lengths \n",
    "# This can happen if the likelihood of drawing 1 is e.g. 1% and the sample size is very small.\n",
    "# Tweaking it a bit solves the problem (although I have hard-coded the number of expected unique values, 6).\n",
    "\n",
    "def compute_ASSD(sample):\n",
    "    size = len(sample)\n",
    "    counts = np.unique(sample, return_counts=True)[1]   # use function counting unique values\n",
    "    expected = np.array([size/6]*len(counts))\n",
    "    \n",
    "    return np.sum((counts-expected)**2)/size + (6 - len(counts)) * np.sum((size/6)**2)/size"
   ]
  },
  {
   "cell_type": "markdown",
   "metadata": {},
   "source": [
    "**Note for improvement**: Maybe remove the hard-coded bit?"
   ]
  },
  {
   "cell_type": "markdown",
   "metadata": {},
   "source": [
    "Note that the size of the sample is crucial: whereas gross deviations from standard weights always result in large values of ASSD, if the sample is small enough a slightly unfair dice might perform better that a fair one."
   ]
  },
  {
   "cell_type": "code",
   "execution_count": 22,
   "metadata": {},
   "outputs": [
    {
     "name": "stdout",
     "output_type": "stream",
     "text": [
      "Weights: [0.21159529 0.25696912 0.08391534 0.24141301 0.1973867  0.00872054]        ASSD: 143.166\n",
      "Weights: [0.16011681 0.16809035 0.16878021 0.16500123 0.16128921 0.17672218]        ASSD: 0.192\n",
      "Weights: [0.16666667 0.16666667 0.16666667 0.16666667 0.16666667 0.16666667]        ASSD: 0.49466666666666664\n"
     ]
    }
   ],
   "source": [
    "w = gen_weights()\n",
    "print('Weights: {}'.format(w) + '        ASSD: {}'.format(compute_ASSD(dice_roll(w, size=3000))))\n",
    "w = gen_close_weights()\n",
    "print('Weights: {}'.format(w) + '        ASSD: {}'.format(compute_ASSD(dice_roll(w, size=3000))))\n",
    "w = gen_close_weights(upto=0)\n",
    "print('Weights: {}'.format(w) + '        ASSD: {}'.format(compute_ASSD(dice_roll(w, size=3000))))\n",
    "\n",
    "del w"
   ]
  },
  {
   "cell_type": "markdown",
   "metadata": {},
   "source": [
    "### Bootstrapping functions"
   ]
  },
  {
   "cell_type": "markdown",
   "metadata": {},
   "source": [
    "Functions to construct bootstrap samples and bootstrap replicates from an original sample."
   ]
  },
  {
   "cell_type": "code",
   "execution_count": 23,
   "metadata": {},
   "outputs": [],
   "source": [
    "# Resample the original sample\n",
    "def BS_sample(orig_sample):\n",
    "    return gen.choice(orig_sample, size=len(orig_sample))\n",
    "\n",
    "# Compute a statistic of interest on a bootstrap sample obtained from the original one.\n",
    "def BS_replicate(orig_sample, func=compute_ASSD):\n",
    "    return func(BS_sample(orig_sample))"
   ]
  },
  {
   "cell_type": "markdown",
   "metadata": {},
   "source": [
    "Function to compute confidence intervals (default 95%) for the statistic of interest, namely ASSD."
   ]
  },
  {
   "cell_type": "code",
   "execution_count": 79,
   "metadata": {},
   "outputs": [],
   "source": [
    "def compute_confint(replicates, percentiles=[2.5, 97.5]):\n",
    "    interval = np.percentile(replicates, percentiles)\n",
    "    print('The {0}% confidence interval for the test statistic is ({1}, {2})'.format(\n",
    "        percentiles[1]-percentiles[0], interval[0].round(3), interval[1].round(3)))\n",
    "    return interval"
   ]
  },
  {
   "cell_type": "markdown",
   "metadata": {},
   "source": [
    "Plot histogram of replicates"
   ]
  },
  {
   "cell_type": "code",
   "execution_count": 75,
   "metadata": {},
   "outputs": [],
   "source": [
    "def gen_replicates(orig_sample, n_repl = 10000, func=compute_ASSD):\n",
    "    replicates = np.empty(n_repl)\n",
    "    for i in range(n_repl):\n",
    "        replicates[i] = BS_replicate(orig_sample, func)\n",
    "    \n",
    "    sns.distplot(replicates, bins=30, norm_hist=True, kde=False)\n",
    "    plt.xlabel('Value of ASSD of the bootstrap replicate')\n",
    "    plt.ylabel('PDF')\n",
    "    plt.show()\n",
    "    \n",
    "    return replicates"
   ]
  },
  {
   "cell_type": "code",
   "execution_count": 80,
   "metadata": {},
   "outputs": [
    {
     "data": {
      "image/png": "[encoded data removed]",
      "text/plain": [
       "<Figure size 432x288 with 1 Axes>"
      ]
     },
     "metadata": {},
     "output_type": "display_data"
    },
    {
     "name": "stdout",
     "output_type": "stream",
     "text": [
      "The 95.0% confidence interval for the test statistic is (132.947, 162.168)\n"
     ]
    },
    {
     "data": {
      "image/png": "[encoded data removed]",
      "text/plain": [
       "<Figure size 432x288 with 1 Axes>"
      ]
     },
     "metadata": {},
     "output_type": "display_data"
    },
    {
     "name": "stdout",
     "output_type": "stream",
     "text": [
      "The 95.0% confidence interval for the test statistic is (0.716, 5.314)\n"
     ]
    },
    {
     "data": {
      "image/png": "[encoded data removed]",
      "text/plain": [
       "<Figure size 432x288 with 1 Axes>"
      ]
     },
     "metadata": {},
     "output_type": "display_data"
    },
    {
     "name": "stdout",
     "output_type": "stream",
     "text": [
      "The 95.0% confidence interval for the test statistic is (0.405, 4.149)\n"
     ]
    }
   ],
   "source": [
    "repl = gen_replicates(dice_roll(gen_weights()))\n",
    "compute_confint(repl);\n",
    "\n",
    "repl = gen_replicates(dice_roll(gen_close_weights()))\n",
    "compute_confint(repl);\n",
    "\n",
    "repl = gen_replicates(dice_roll(gen_close_weights(upto=0)))\n",
    "compute_confint(repl);"
   ]
  },
  {
   "cell_type": "markdown",
   "metadata": {},
   "source": [
    "### Hypothesis testing\n",
    "\n",
    "Suppose we perform the following experiment. \n",
    "Some dice is rolled a number of times: we don't know whether it is fair, we only observe the numbers that are rolled. \n",
    "We want to test the hypothesis that the dice is fair.\n",
    "\n",
    "Looking at the previous examples it is clear that there's no chance that a badly unfair dice will resemble a fair one. However, if the weights are altered by just a small amount the distributions of our ASSD are quite similar to each other."
   ]
  },
  {
   "cell_type": "code",
   "execution_count": null,
   "metadata": {},
   "outputs": [],
   "source": []
  },
  {
   "cell_type": "code",
   "execution_count": null,
   "metadata": {},
   "outputs": [],
   "source": []
  },
  {
   "cell_type": "code",
   "execution_count": null,
   "metadata": {},
   "outputs": [],
   "source": []
  },
  {
   "cell_type": "code",
   "execution_count": null,
   "metadata": {},
   "outputs": [],
   "source": []
  },
  {
   "cell_type": "markdown",
   "metadata": {},
   "source": [
    "## Constructing a DataFrame of observations"
   ]
  },
  {
   "cell_type": "code",
   "execution_count": 53,
   "metadata": {},
   "outputs": [
    {
     "data": {
      "text/plain": [
       "array([0.2199285 , 0.2598058 , 0.08012407, 0.09792432, 0.22363159,\n",
       "       0.11858571])"
      ]
     },
     "execution_count": 53,
     "metadata": {},
     "output_type": "execute_result"
    }
   ],
   "source": [
    "weights"
   ]
  },
  {
   "cell_type": "code",
   "execution_count": 54,
   "metadata": {},
   "outputs": [],
   "source": [
    "dictionary = {}\n",
    "\n",
    "for i in range(100):\n",
    "    val = pd.Series(dice_roll(weights))\n",
    "    dictionary[i] = val.value_counts()"
   ]
  },
  {
   "cell_type": "code",
   "execution_count": 55,
   "metadata": {},
   "outputs": [
    {
     "data": {
      "text/html": [
       "<div>\n",
       "<style scoped>\n",
       "    .dataframe tbody tr th:only-of-type {\n",
       "        vertical-align: middle;\n",
       "    }\n",
       "\n",
       "    .dataframe tbody tr th {\n",
       "        vertical-align: top;\n",
       "    }\n",
       "\n",
       "    .dataframe thead th {\n",
       "        text-align: right;\n",
       "    }\n",
       "</style>\n",
       "<table border=\"1\" class=\"dataframe\">\n",
       "  <thead>\n",
       "    <tr style=\"text-align: right;\">\n",
       "      <th></th>\n",
       "      <th>1</th>\n",
       "      <th>2</th>\n",
       "      <th>3</th>\n",
       "      <th>4</th>\n",
       "      <th>5</th>\n",
       "      <th>6</th>\n",
       "    </tr>\n",
       "  </thead>\n",
       "  <tbody>\n",
       "    <tr>\n",
       "      <th>0</th>\n",
       "      <td>1236</td>\n",
       "      <td>1568</td>\n",
       "      <td>442</td>\n",
       "      <td>589</td>\n",
       "      <td>1438</td>\n",
       "      <td>727</td>\n",
       "    </tr>\n",
       "    <tr>\n",
       "      <th>1</th>\n",
       "      <td>1285</td>\n",
       "      <td>1622</td>\n",
       "      <td>479</td>\n",
       "      <td>566</td>\n",
       "      <td>1331</td>\n",
       "      <td>717</td>\n",
       "    </tr>\n",
       "    <tr>\n",
       "      <th>2</th>\n",
       "      <td>1324</td>\n",
       "      <td>1541</td>\n",
       "      <td>494</td>\n",
       "      <td>608</td>\n",
       "      <td>1340</td>\n",
       "      <td>693</td>\n",
       "    </tr>\n",
       "    <tr>\n",
       "      <th>3</th>\n",
       "      <td>1268</td>\n",
       "      <td>1600</td>\n",
       "      <td>477</td>\n",
       "      <td>583</td>\n",
       "      <td>1360</td>\n",
       "      <td>712</td>\n",
       "    </tr>\n",
       "    <tr>\n",
       "      <th>4</th>\n",
       "      <td>1348</td>\n",
       "      <td>1531</td>\n",
       "      <td>499</td>\n",
       "      <td>595</td>\n",
       "      <td>1348</td>\n",
       "      <td>679</td>\n",
       "    </tr>\n",
       "    <tr>\n",
       "      <th>...</th>\n",
       "      <td>...</td>\n",
       "      <td>...</td>\n",
       "      <td>...</td>\n",
       "      <td>...</td>\n",
       "      <td>...</td>\n",
       "      <td>...</td>\n",
       "    </tr>\n",
       "    <tr>\n",
       "      <th>95</th>\n",
       "      <td>1377</td>\n",
       "      <td>1544</td>\n",
       "      <td>477</td>\n",
       "      <td>615</td>\n",
       "      <td>1263</td>\n",
       "      <td>724</td>\n",
       "    </tr>\n",
       "    <tr>\n",
       "      <th>96</th>\n",
       "      <td>1254</td>\n",
       "      <td>1613</td>\n",
       "      <td>474</td>\n",
       "      <td>589</td>\n",
       "      <td>1379</td>\n",
       "      <td>691</td>\n",
       "    </tr>\n",
       "    <tr>\n",
       "      <th>97</th>\n",
       "      <td>1354</td>\n",
       "      <td>1456</td>\n",
       "      <td>492</td>\n",
       "      <td>556</td>\n",
       "      <td>1358</td>\n",
       "      <td>784</td>\n",
       "    </tr>\n",
       "    <tr>\n",
       "      <th>98</th>\n",
       "      <td>1346</td>\n",
       "      <td>1534</td>\n",
       "      <td>522</td>\n",
       "      <td>565</td>\n",
       "      <td>1346</td>\n",
       "      <td>687</td>\n",
       "    </tr>\n",
       "    <tr>\n",
       "      <th>99</th>\n",
       "      <td>1315</td>\n",
       "      <td>1493</td>\n",
       "      <td>477</td>\n",
       "      <td>636</td>\n",
       "      <td>1338</td>\n",
       "      <td>741</td>\n",
       "    </tr>\n",
       "  </tbody>\n",
       "</table>\n",
       "<p>100 rows × 6 columns</p>\n",
       "</div>"
      ],
      "text/plain": [
       "       1     2    3    4     5    6\n",
       "0   1236  1568  442  589  1438  727\n",
       "1   1285  1622  479  566  1331  717\n",
       "2   1324  1541  494  608  1340  693\n",
       "3   1268  1600  477  583  1360  712\n",
       "4   1348  1531  499  595  1348  679\n",
       "..   ...   ...  ...  ...   ...  ...\n",
       "95  1377  1544  477  615  1263  724\n",
       "96  1254  1613  474  589  1379  691\n",
       "97  1354  1456  492  556  1358  784\n",
       "98  1346  1534  522  565  1346  687\n",
       "99  1315  1493  477  636  1338  741\n",
       "\n",
       "[100 rows x 6 columns]"
      ]
     },
     "execution_count": 55,
     "metadata": {},
     "output_type": "execute_result"
    }
   ],
   "source": [
    "df = pd.DataFrame(dictionary).transpose()\n",
    "\n",
    "df"
   ]
  }
 ],
 "metadata": {
  "kernelspec": {
   "display_name": "Python 3",
   "language": "python",
   "name": "python3"
  },
  "language_info": {
   "codemirror_mode": {
    "name": "ipython",
    "version": 3
   },
   "file_extension": ".py",
   "mimetype": "text/x-python",
   "name": "python",
   "nbconvert_exporter": "python",
   "pygments_lexer": "ipython3",
   "version": "3.7.6"
  }
 },
 "nbformat": 4,
 "nbformat_minor": 4
}
