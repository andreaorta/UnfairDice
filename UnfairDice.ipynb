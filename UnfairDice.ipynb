{
 "cells": [
  {
   "cell_type": "markdown",
   "metadata": {},
   "source": [
    "# Imports and instantiation of a random number generator"
   ]
  },
  {
   "cell_type": "code",
   "execution_count": 1,
   "metadata": {},
   "outputs": [],
   "source": [
    "# To run all the expressions in each cell. \n",
    "# To return to the default behavior, write: InteractiveShell.ast_node_interactivity = \"last_expr\"\n",
    "\n",
    "from IPython.core.interactiveshell import InteractiveShell\n",
    "InteractiveShell.ast_node_interactivity = \"all\""
   ]
  },
  {
   "cell_type": "code",
   "execution_count": 2,
   "metadata": {},
   "outputs": [],
   "source": [
    "import numpy as np\n",
    "from numpy.random import default_rng\n",
    "import matplotlib.pyplot as plt\n",
    "import seaborn as sns\n",
    "import pandas as pd"
   ]
  },
  {
   "cell_type": "code",
   "execution_count": 3,
   "metadata": {},
   "outputs": [],
   "source": [
    "seed = 42\n",
    "gen = default_rng(seed)"
   ]
  },
  {
   "cell_type": "markdown",
   "metadata": {},
   "source": [
    "# Drawing numbers"
   ]
  },
  {
   "cell_type": "markdown",
   "metadata": {},
   "source": [
    "### Uniform distribution"
   ]
  },
  {
   "cell_type": "code",
   "execution_count": 4,
   "metadata": {},
   "outputs": [],
   "source": [
    "values = gen.uniform(0, 1, 10000)"
   ]
  },
  {
   "cell_type": "code",
   "execution_count": 5,
   "metadata": {},
   "outputs": [
    {
     "data": {
      "text/plain": [
       "<matplotlib.axes._subplots.AxesSubplot at 0x1a17836ed0>"
      ]
     },
     "execution_count": 5,
     "metadata": {},
     "output_type": "execute_result"
    },
    {
     "data": {
      "image/png": "[encoded data removed]",
      "text/plain": [
       "<Figure size 432x288 with 1 Axes>"
      ]
     },
     "metadata": {
      "needs_background": "light"
     },
     "output_type": "display_data"
    }
   ],
   "source": [
    "sns.distplot(values)\n",
    "plt.show()"
   ]
  },
  {
   "cell_type": "markdown",
   "metadata": {},
   "source": [
    "### Simulating unfair dice"
   ]
  },
  {
   "cell_type": "markdown",
   "metadata": {},
   "source": [
    "Define the weights + simple function to check that a set of weights is legitimate."
   ]
  },
  {
   "cell_type": "code",
   "execution_count": 6,
   "metadata": {},
   "outputs": [],
   "source": [
    "weights = np.array([0.3, 0.2, 0.1, 0.05, 0.15, 0.2])"
   ]
  },
  {
   "cell_type": "code",
   "execution_count": 7,
   "metadata": {},
   "outputs": [],
   "source": [
    "# Generating random weights\n",
    "\n",
    "def gen_weights(n_weights=6, sum=1): \n",
    "    arr = default_rng().uniform(0,1,n_weights)\n",
    "    return arr/(arr.sum())"
   ]
  },
  {
   "cell_type": "code",
   "execution_count": 8,
   "metadata": {},
   "outputs": [],
   "source": [
    "def check_weights(weights):\n",
    "    return np.isclose(weights.sum(), 1.0)    # The .isclose() method accommodates small imprecisions"
   ]
  },
  {
   "cell_type": "markdown",
   "metadata": {},
   "source": [
    "Of course obtaining by chance a roughly uniform distribution of weights is extremely unlikely if n_weights is larger than 2 or 3. For this reason it might be useful to code a function generating weights that are just moderately off those of a fair dice (say, within 5-10%)."
   ]
  },
  {
   "cell_type": "markdown",
   "metadata": {},
   "source": [
    "#### Writing the drawing function from scratch\n",
    "\n",
    "Splitting the interval [0,1] into six bins of variable width (based on my desired weights) and translating the outcome of the draws based on that choice of bins."
   ]
  },
  {
   "cell_type": "code",
   "execution_count": 13,
   "metadata": {},
   "outputs": [],
   "source": [
    "# Caveman's approach\n",
    "def dice_roll_caveman(weights, size=1000):\n",
    "    \n",
    "    bins_l = np.array([sum(weights[:i]) for i in range(len(weights))])\n",
    "    array = np.empty(size)\n",
    "    for i in range(size):\n",
    "        drawn = gen.uniform()\n",
    "        if drawn < bins_l[1]:\n",
    "            array[i] = 1\n",
    "        elif drawn < bins_l[2]:\n",
    "            array[i] = 2\n",
    "        elif drawn < bins_l[3]:\n",
    "            array[i] = 3\n",
    "        elif drawn < bins_l[4]:\n",
    "            array[i] = 4\n",
    "        elif drawn < bins_l[5]:\n",
    "            array[i] = 5\n",
    "        else:\n",
    "            array[i] = 6\n",
    "\n",
    "    return array\n",
    "    \n",
    "# Using sorting\n",
    "def dice_roll_sorting(weights, size=1000):\n",
    "    \n",
    "    bins_l = np.array([sum(weights[:i]) for i in range(len(weights))])\n",
    "    array = np.empty(size)\n",
    "    for i in range(size):\n",
    "        drawn = gen.uniform()\n",
    "        lst = np.sort(np.append(bins_l, drawn))\n",
    "        array[i] = np.where(lst == drawn)[0]   # [0] is to avoid ValueError: setting an array element with a sequence.\n",
    "    \n",
    "    return array"
   ]
  },
  {
   "cell_type": "markdown",
   "metadata": {},
   "source": [
    "#### Taking advantage of a built-in method [(link)](https://stackoverflow.com/questions/4265988/generate-random-numbers-with-a-given-numerical-distribution/41852266)"
   ]
  },
  {
   "cell_type": "code",
   "execution_count": 10,
   "metadata": {},
   "outputs": [],
   "source": [
    "# Using the .choice() method\n",
    "def dice_roll(weights, size=1000):\n",
    "    return gen.choice(np.arange(1, 7), size=size, p=weights)"
   ]
  },
  {
   "cell_type": "markdown",
   "metadata": {},
   "source": [
    "#### Timing shows that the built-in method is fastest, but the caveman's approach clearly beats the sorting!"
   ]
  },
  {
   "cell_type": "code",
   "execution_count": 15,
   "metadata": {},
   "outputs": [
    {
     "name": "stdout",
     "output_type": "stream",
     "text": [
      "3.12 ms ± 43.4 µs per loop (mean ± std. dev. of 7 runs, 100 loops each)\n",
      "13.8 ms ± 116 µs per loop (mean ± std. dev. of 7 runs, 100 loops each)\n",
      "73.5 µs ± 605 ns per loop (mean ± std. dev. of 7 runs, 10000 loops each)\n"
     ]
    }
   ],
   "source": [
    "%timeit dice_roll_caveman(weights, size=1000)\n",
    "\n",
    "%timeit dice_roll_sorting(weights, size = 1000)\n",
    "\n",
    "%timeit dice_roll(weights, size = 1000)"
   ]
  },
  {
   "cell_type": "markdown",
   "metadata": {},
   "source": [
    "### Plotting"
   ]
  },
  {
   "cell_type": "code",
   "execution_count": 16,
   "metadata": {},
   "outputs": [],
   "source": [
    "sns.set_style('whitegrid')"
   ]
  },
  {
   "cell_type": "code",
   "execution_count": 17,
   "metadata": {},
   "outputs": [
    {
     "name": "stdout",
     "output_type": "stream",
     "text": [
      "The weights are approximately 0.12, 0.2, 0.13, 0.21, 0.22, 0.11\n"
     ]
    },
    {
     "data": {
      "image/png": "[encoded data removed]",
      "text/plain": [
       "<Figure size 432x288 with 1 Axes>"
      ]
     },
     "metadata": {},
     "output_type": "display_data"
    }
   ],
   "source": [
    "weights = gen_weights()\n",
    "print('The weights are approximately ' + ', '.join(map(str,weights.round(2))))\n",
    "\n",
    "values = dice_roll(weights, size=1000000)\n",
    "sns.countplot(values, palette='Greens')\n",
    "plt.show();"
   ]
  },
  {
   "cell_type": "markdown",
   "metadata": {},
   "source": [
    "## Constructing a DataFrame of observations"
   ]
  },
  {
   "cell_type": "code",
   "execution_count": 18,
   "metadata": {},
   "outputs": [
    {
     "data": {
      "text/plain": [
       "array([0.12287997, 0.19618824, 0.13198828, 0.21440566, 0.22378441,\n",
       "       0.11075344])"
      ]
     },
     "execution_count": 18,
     "metadata": {},
     "output_type": "execute_result"
    }
   ],
   "source": [
    "weights"
   ]
  },
  {
   "cell_type": "code",
   "execution_count": 19,
   "metadata": {},
   "outputs": [],
   "source": [
    "dictionary = {}\n",
    "\n",
    "for i in range(100):\n",
    "    val = pd.Series(dice_roll(weights))\n",
    "    dictionary[i] = val.value_counts()"
   ]
  },
  {
   "cell_type": "code",
   "execution_count": 20,
   "metadata": {},
   "outputs": [
    {
     "data": {
      "text/html": [
       "<div>\n",
       "<style scoped>\n",
       "    .dataframe tbody tr th:only-of-type {\n",
       "        vertical-align: middle;\n",
       "    }\n",
       "\n",
       "    .dataframe tbody tr th {\n",
       "        vertical-align: top;\n",
       "    }\n",
       "\n",
       "    .dataframe thead th {\n",
       "        text-align: right;\n",
       "    }\n",
       "</style>\n",
       "<table border=\"1\" class=\"dataframe\">\n",
       "  <thead>\n",
       "    <tr style=\"text-align: right;\">\n",
       "      <th></th>\n",
       "      <th>1</th>\n",
       "      <th>2</th>\n",
       "      <th>3</th>\n",
       "      <th>4</th>\n",
       "      <th>5</th>\n",
       "      <th>6</th>\n",
       "    </tr>\n",
       "  </thead>\n",
       "  <tbody>\n",
       "    <tr>\n",
       "      <th>0</th>\n",
       "      <td>126</td>\n",
       "      <td>201</td>\n",
       "      <td>130</td>\n",
       "      <td>225</td>\n",
       "      <td>195</td>\n",
       "      <td>123</td>\n",
       "    </tr>\n",
       "    <tr>\n",
       "      <th>1</th>\n",
       "      <td>122</td>\n",
       "      <td>171</td>\n",
       "      <td>139</td>\n",
       "      <td>208</td>\n",
       "      <td>243</td>\n",
       "      <td>117</td>\n",
       "    </tr>\n",
       "    <tr>\n",
       "      <th>2</th>\n",
       "      <td>137</td>\n",
       "      <td>210</td>\n",
       "      <td>115</td>\n",
       "      <td>228</td>\n",
       "      <td>220</td>\n",
       "      <td>90</td>\n",
       "    </tr>\n",
       "    <tr>\n",
       "      <th>3</th>\n",
       "      <td>121</td>\n",
       "      <td>173</td>\n",
       "      <td>123</td>\n",
       "      <td>240</td>\n",
       "      <td>229</td>\n",
       "      <td>114</td>\n",
       "    </tr>\n",
       "    <tr>\n",
       "      <th>4</th>\n",
       "      <td>143</td>\n",
       "      <td>187</td>\n",
       "      <td>128</td>\n",
       "      <td>207</td>\n",
       "      <td>222</td>\n",
       "      <td>113</td>\n",
       "    </tr>\n",
       "    <tr>\n",
       "      <th>...</th>\n",
       "      <td>...</td>\n",
       "      <td>...</td>\n",
       "      <td>...</td>\n",
       "      <td>...</td>\n",
       "      <td>...</td>\n",
       "      <td>...</td>\n",
       "    </tr>\n",
       "    <tr>\n",
       "      <th>95</th>\n",
       "      <td>108</td>\n",
       "      <td>192</td>\n",
       "      <td>133</td>\n",
       "      <td>210</td>\n",
       "      <td>255</td>\n",
       "      <td>102</td>\n",
       "    </tr>\n",
       "    <tr>\n",
       "      <th>96</th>\n",
       "      <td>122</td>\n",
       "      <td>181</td>\n",
       "      <td>144</td>\n",
       "      <td>210</td>\n",
       "      <td>239</td>\n",
       "      <td>104</td>\n",
       "    </tr>\n",
       "    <tr>\n",
       "      <th>97</th>\n",
       "      <td>115</td>\n",
       "      <td>208</td>\n",
       "      <td>115</td>\n",
       "      <td>227</td>\n",
       "      <td>215</td>\n",
       "      <td>120</td>\n",
       "    </tr>\n",
       "    <tr>\n",
       "      <th>98</th>\n",
       "      <td>119</td>\n",
       "      <td>166</td>\n",
       "      <td>134</td>\n",
       "      <td>249</td>\n",
       "      <td>219</td>\n",
       "      <td>113</td>\n",
       "    </tr>\n",
       "    <tr>\n",
       "      <th>99</th>\n",
       "      <td>123</td>\n",
       "      <td>206</td>\n",
       "      <td>130</td>\n",
       "      <td>203</td>\n",
       "      <td>232</td>\n",
       "      <td>106</td>\n",
       "    </tr>\n",
       "  </tbody>\n",
       "</table>\n",
       "<p>100 rows × 6 columns</p>\n",
       "</div>"
      ],
      "text/plain": [
       "      1    2    3    4    5    6\n",
       "0   126  201  130  225  195  123\n",
       "1   122  171  139  208  243  117\n",
       "2   137  210  115  228  220   90\n",
       "3   121  173  123  240  229  114\n",
       "4   143  187  128  207  222  113\n",
       "..  ...  ...  ...  ...  ...  ...\n",
       "95  108  192  133  210  255  102\n",
       "96  122  181  144  210  239  104\n",
       "97  115  208  115  227  215  120\n",
       "98  119  166  134  249  219  113\n",
       "99  123  206  130  203  232  106\n",
       "\n",
       "[100 rows x 6 columns]"
      ]
     },
     "execution_count": 20,
     "metadata": {},
     "output_type": "execute_result"
    }
   ],
   "source": [
    "df = pd.DataFrame(dictionary).transpose()\n",
    "\n",
    "df"
   ]
  },
  {
   "cell_type": "markdown",
   "metadata": {},
   "source": [
    "## Statistical analysis"
   ]
  },
  {
   "cell_type": "markdown",
   "metadata": {},
   "source": [
    "I should probably use the concept of bootstrap replicates:\n",
    "* *dice_roll* generates a bunch of values\n",
    "* resampling the array gives a bootstrap sample, from which we can compute some statistic, e.g. mean and stdev. We can  plot histograms of such bootstrap replicates.\n",
    "* once we have computed mean and stdev of a uniform distribution we can test the hypothesis that our dice is fair. We should probably perform the two analyses independently and compare the results."
   ]
  },
  {
   "cell_type": "code",
   "execution_count": null,
   "metadata": {},
   "outputs": [],
   "source": []
  }
 ],
 "metadata": {
  "kernelspec": {
   "display_name": "Python 3",
   "language": "python",
   "name": "python3"
  },
  "language_info": {
   "codemirror_mode": {
    "name": "ipython",
    "version": 3
   },
   "file_extension": ".py",
   "mimetype": "text/x-python",
   "name": "python",
   "nbconvert_exporter": "python",
   "pygments_lexer": "ipython3",
   "version": "3.7.6"
  }
 },
 "nbformat": 4,
 "nbformat_minor": 4
}
