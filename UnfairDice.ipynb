{
 "cells": [
  {
   "cell_type": "markdown",
   "metadata": {},
   "source": [
    "# Unfair Dice"
   ]
  },
  {
   "cell_type": "markdown",
   "metadata": {},
   "source": [
    "### Multinomial distribution\n",
    "\n",
    "We are dealing with a discrete probability problem, involving a dice with six faces. \n",
    "\n",
    "There are thus six possible outcomes for a roll, with probabilities given by the weights. \n",
    "The multinomial distribution models the probability of achieving a given count of 1's, ..., 6's over $N$ rolls, given the weights $w_1, \\dots, w_6$. \n",
    "\n",
    "Calling $C_i$ the count of i's, the expected value of $C_i$ is $E[C_i] = N w_i$, whereas its variance is $\\textrm{Var}[C_i] = N w_i(1-w_i)$, as in the binomial case; moreover, the probability mass function -- discrete analogue of the PDF -- is given by\n",
    "$$f(C_1, \\dots, C_6) = \\frac{N!}{C_1! \\cdots C_6!} w_1^{C_1} \\cdots w_6^{C_6}$$\n"
   ]
  },
  {
   "cell_type": "markdown",
   "metadata": {},
   "source": [
    "See also\n",
    "* https://timothyweber.org/node/255\n",
    "* http://deltasdnd.blogspot.com/2011/10/testing-balanced-dice-power.html"
   ]
  },
  {
   "cell_type": "markdown",
   "metadata": {},
   "source": [
    "## Imports and instantiation of a random number generator"
   ]
  },
  {
   "cell_type": "code",
   "execution_count": 1,
   "metadata": {},
   "outputs": [],
   "source": [
    "# To run all the expressions in each cell. \n",
    "# To return to the default behavior, write: InteractiveShell.ast_node_interactivity = \"last_expr\"\n",
    "\n",
    "from IPython.core.interactiveshell import InteractiveShell\n",
    "InteractiveShell.ast_node_interactivity = \"all\""
   ]
  },
  {
   "cell_type": "code",
   "execution_count": 2,
   "metadata": {},
   "outputs": [],
   "source": [
    "import numpy as np\n",
    "from numpy.random import default_rng\n",
    "import math\n",
    "import matplotlib.pyplot as plt\n",
    "import seaborn as sns\n",
    "import pandas as pd"
   ]
  },
  {
   "cell_type": "code",
   "execution_count": 3,
   "metadata": {},
   "outputs": [],
   "source": [
    "seed = 42\n",
    "gen = default_rng(seed)"
   ]
  },
  {
   "cell_type": "markdown",
   "metadata": {},
   "source": [
    "## Sampling from a probability distribution"
   ]
  },
  {
   "cell_type": "markdown",
   "metadata": {},
   "source": [
    "#### A few basic examples"
   ]
  },
  {
   "cell_type": "code",
   "execution_count": 13,
   "metadata": {},
   "outputs": [
    {
     "data": {
      "image/png": "[encoded data removed]",
      "text/plain": [
       "<Figure size 432x288 with 1 Axes>"
      ]
     },
     "metadata": {
      "needs_background": "light"
     },
     "output_type": "display_data"
    }
   ],
   "source": [
    "# Uniform distribution\n",
    "\n",
    "values = gen.uniform(0, 1, 10000)\n",
    "\n",
    "sns.distplot(values, bins=30)\n",
    "plt.show();"
   ]
  },
  {
   "cell_type": "code",
   "execution_count": 14,
   "metadata": {},
   "outputs": [
    {
     "data": {
      "image/png": "[encoded data removed]",
      "text/plain": [
       "<Figure size 432x288 with 1 Axes>"
      ]
     },
     "metadata": {
      "needs_background": "light"
     },
     "output_type": "display_data"
    }
   ],
   "source": [
    "# Normal distribution\n",
    "\n",
    "values = gen.normal(0, 1, 10000)\n",
    "\n",
    "sns.distplot(values, bins=30)\n",
    "plt.show();"
   ]
  },
  {
   "cell_type": "markdown",
   "metadata": {},
   "source": [
    "## Simulating unfair dice\n",
    "\n",
    "### Generating the weights"
   ]
  },
  {
   "cell_type": "code",
   "execution_count": 6,
   "metadata": {},
   "outputs": [],
   "source": [
    "# Weights for a fair dice\n",
    "\n",
    "std_weights = np.array([1/6]*6)"
   ]
  },
  {
   "cell_type": "markdown",
   "metadata": {},
   "source": [
    "We will be generating random weights by rescaling a bunch of numbers drawn from a uniform distribution."
   ]
  },
  {
   "cell_type": "code",
   "execution_count": 7,
   "metadata": {},
   "outputs": [],
   "source": [
    "def gen_weights(n_weights=6, sum=1): \n",
    "    arr = gen.uniform(0,1,n_weights)\n",
    "    return arr/(arr.sum())\n",
    "\n",
    "# A quick function to check that a collection of weights is legitimate \n",
    "# (relevant for manually input weights, as our function guarantees that they add up to 1)\n",
    "\n",
    "def check_weights(weights):\n",
    "    return np.isclose(weights.sum(), 1.0)    # The .isclose() method accommodates small imprecisions"
   ]
  },
  {
   "cell_type": "markdown",
   "metadata": {},
   "source": [
    "Of course obtaining by chance a roughly uniform distribution of weights is extremely unlikely if n_weights is larger than 2 or 3. For this reason it is useful to code a function generating weights that are just moderately off those of a fair dice.\n",
    "\n",
    "The *upto* parameter specifies the allowed relative discrepancy (default is 10%). In particular, setting *upto=0* forces the weights to be those of a fair dice."
   ]
  },
  {
   "cell_type": "code",
   "execution_count": 8,
   "metadata": {},
   "outputs": [],
   "source": [
    "def gen_close_weights(upto=0.1, n_weights=6, sum=1):\n",
    "    arr_perc = gen.uniform(-upto, upto, n_weights)\n",
    "    arr = np.array([(1 + arr_perc[i])/n_weights for i in range(n_weights)])\n",
    "    return arr/(arr.sum())"
   ]
  },
  {
   "cell_type": "markdown",
   "metadata": {},
   "source": [
    "#### Examples"
   ]
  },
  {
   "cell_type": "code",
   "execution_count": 9,
   "metadata": {},
   "outputs": [
    {
     "name": "stdout",
     "output_type": "stream",
     "text": [
      "Weights: [0.17447928 0.09322567 0.00414993 0.06721468 0.41501524 0.2459152 ]   Sum to 1? True\n",
      "Weights: [0.06304619 0.2960062  0.2498492  0.03628259 0.08532763 0.26948819]   Sum to 1? True\n",
      "Weights: [0.23854655 0.32574557 0.02626835 0.26713347 0.02632416 0.1159819 ]   Sum to 1? True\n",
      "Weights: [0.29203667 0.27660799 0.00082391 0.07856293 0.30289266 0.04907584]   Sum to 1? True\n",
      "Weights: [0.15876465 0.08945172 0.05421625 0.40697053 0.02983925 0.26075761]   Sum to 1? True\n"
     ]
    }
   ],
   "source": [
    "for i in range(5):\n",
    "    w = gen_weights()\n",
    "    print('Weights: {}'.format(w) + '   Sum to 1? {}'.format(check_weights(w)))"
   ]
  },
  {
   "cell_type": "code",
   "execution_count": 10,
   "metadata": {},
   "outputs": [
    {
     "name": "stdout",
     "output_type": "stream",
     "text": [
      "Weights: [0.17109881 0.15017287 0.16914672 0.15928275 0.17574064 0.17455821]   Sum to 1? True\n",
      "Weights: [0.17585123 0.16272223 0.17680269 0.17040609 0.16205854 0.15215922]   Sum to 1? True\n",
      "Weights: [0.1538222  0.16003942 0.16166235 0.18281311 0.18525205 0.15641087]   Sum to 1? True\n",
      "Weights: [0.17328165 0.16576085 0.15914091 0.1736611  0.16598858 0.16216691]   Sum to 1? True\n",
      "Weights: [0.16307765 0.16428674 0.18738507 0.16326852 0.156941   0.16504103]   Sum to 1? True\n",
      "\n",
      "Weights: [0.16666667 0.16666667 0.16666667 0.16666667 0.16666667 0.16666667]   Sum to 1? True\n"
     ]
    }
   ],
   "source": [
    "for i in range(5):\n",
    "    w = gen_close_weights()\n",
    "    print('Weights: {}'.format(w) + '   Sum to 1? {}'.format(check_weights(w)))\n",
    "\n",
    "print('\\nWeights: {}'.format(gen_close_weights(upto=0)) + '   Sum to 1? {}'.format(check_weights(w)))"
   ]
  },
  {
   "cell_type": "markdown",
   "metadata": {},
   "source": [
    "### Tossing the (loaded) dice\n",
    "\n",
    "#### Writing the drawing function from scratch\n",
    "\n",
    "We split the interval [0,1] into six bins of variable width (based on the desired weights) and translate the outcome of the draws based on that choice of bins."
   ]
  },
  {
   "cell_type": "code",
   "execution_count": 15,
   "metadata": {},
   "outputs": [],
   "source": [
    "# Caveman's approach\n",
    "def dice_roll_caveman(weights, size=1000):\n",
    "    \n",
    "    bins_l = np.array([sum(weights[:i]) for i in range(len(weights))])\n",
    "    array = np.empty(size)\n",
    "    for i in range(size):\n",
    "        drawn = gen.uniform()\n",
    "        if drawn < bins_l[1]:\n",
    "            array[i] = 1\n",
    "        elif drawn < bins_l[2]:\n",
    "            array[i] = 2\n",
    "        elif drawn < bins_l[3]:\n",
    "            array[i] = 3\n",
    "        elif drawn < bins_l[4]:\n",
    "            array[i] = 4\n",
    "        elif drawn < bins_l[5]:\n",
    "            array[i] = 5\n",
    "        else:\n",
    "            array[i] = 6\n",
    "            \n",
    "    return array\n",
    "    \n",
    "# Using sorting\n",
    "def dice_roll_sorting(weights, size=1000):\n",
    "    \n",
    "    bins_l = np.array([sum(weights[:i]) for i in range(len(weights))])\n",
    "    array = np.empty(size)\n",
    "    for i in range(size):\n",
    "        drawn = gen.uniform()\n",
    "        lst = np.sort(np.append(bins_l, drawn))\n",
    "        array[i] = np.where(lst == drawn)[0]   # [0] is to avoid ValueError: setting an array element with a sequence.\n",
    "    \n",
    "    return array"
   ]
  },
  {
   "cell_type": "markdown",
   "metadata": {},
   "source": [
    "#### Taking advantage of the built-in method *choice* [(link)](https://stackoverflow.com/questions/4265988/generate-random-numbers-with-a-given-numerical-distribution/41852266)"
   ]
  },
  {
   "cell_type": "code",
   "execution_count": 16,
   "metadata": {},
   "outputs": [],
   "source": [
    "# Using the .choice() method\n",
    "def dice_roll(weights, size=6000):\n",
    "    return gen.choice(np.arange(1, 7), size=size, p=weights)"
   ]
  },
  {
   "cell_type": "markdown",
   "metadata": {},
   "source": [
    "#### Comparing performances\n",
    "\n",
    "Timing shows that the built-in method is way faster; the caveman's approach clearly beats the sorting!"
   ]
  },
  {
   "cell_type": "code",
   "execution_count": 17,
   "metadata": {},
   "outputs": [
    {
     "name": "stdout",
     "output_type": "stream",
     "text": [
      "3.72 ms ± 264 µs per loop (mean ± std. dev. of 7 runs, 100 loops each)\n",
      "18.1 ms ± 2.92 ms per loop (mean ± std. dev. of 7 runs, 100 loops each)\n",
      "96.9 µs ± 8.73 µs per loop (mean ± std. dev. of 7 runs, 10000 loops each)\n"
     ]
    }
   ],
   "source": [
    "weights = gen_weights()\n",
    "\n",
    "%timeit dice_roll_caveman(weights, size=1000)\n",
    "\n",
    "%timeit dice_roll_sorting(weights, size = 1000)\n",
    "\n",
    "%timeit dice_roll(weights, size = 1000)"
   ]
  },
  {
   "cell_type": "markdown",
   "metadata": {},
   "source": [
    "## Plotting histograms"
   ]
  },
  {
   "cell_type": "code",
   "execution_count": 18,
   "metadata": {},
   "outputs": [],
   "source": [
    "sns.set_style('whitegrid')"
   ]
  },
  {
   "cell_type": "code",
   "execution_count": 19,
   "metadata": {},
   "outputs": [
    {
     "name": "stdout",
     "output_type": "stream",
     "text": [
      "The weights are approximately (0.25, 0.17, 0.18, 0.17, 0.03, 0.21)\n"
     ]
    },
    {
     "data": {
      "image/png": "[encoded data removed]",
      "text/plain": [
       "<Figure size 432x288 with 1 Axes>"
      ]
     },
     "metadata": {},
     "output_type": "display_data"
    }
   ],
   "source": [
    "weights = gen_weights()\n",
    "print('The weights are approximately (' + ', '.join(map(str,weights.round(2))) + ')')\n",
    "\n",
    "values = dice_roll(weights, size=1000000)\n",
    "sns.countplot(values, palette='Greens')\n",
    "plt.show();"
   ]
  },
  {
   "cell_type": "code",
   "execution_count": 20,
   "metadata": {},
   "outputs": [
    {
     "name": "stdout",
     "output_type": "stream",
     "text": [
      "The weights are approximately (0.16, 0.18, 0.17, 0.16, 0.18, 0.16)\n"
     ]
    },
    {
     "data": {
      "image/png": "[encoded data removed]",
      "text/plain": [
       "<Figure size 432x288 with 1 Axes>"
      ]
     },
     "metadata": {},
     "output_type": "display_data"
    }
   ],
   "source": [
    "weights = gen_close_weights()\n",
    "print('The weights are approximately (' + ', '.join(map(str,weights.round(2))) + ')')\n",
    "\n",
    "values = dice_roll(weights, size=1000000)\n",
    "sns.countplot(values, palette='Greens')\n",
    "plt.show();"
   ]
  },
  {
   "cell_type": "markdown",
   "metadata": {},
   "source": [
    "## Statistical analysis"
   ]
  },
  {
   "cell_type": "markdown",
   "metadata": {},
   "source": [
    "At first we will find it convenient to draw samples from the multinomial distribution, rather than simulating a number of dice tosses and subsequently count the number of times each face was rolled. However, for the sake of the bootstrap analysis we will need to be able to go back and forth between the two representations (of course it isn't one-to-one, but it won't matter)."
   ]
  },
  {
   "cell_type": "markdown",
   "metadata": {},
   "source": [
    "### Preliminaries"
   ]
  },
  {
   "cell_type": "code",
   "execution_count": 253,
   "metadata": {},
   "outputs": [],
   "source": [
    "# Sampling from the multinomial distribution (gives the count for all faces, not an array of tossed faces)\n",
    "\n",
    "def dice_roll_count_multinom(weights, size=6000):\n",
    "    return gen.multinomial(size, weights)\n",
    "\n",
    "# Converting counts in an array of outcomes (sorted, but it will then be shuffled)\n",
    "\n",
    "def expand_counts(counts):\n",
    "    arr = [[i+1]*counts[i] for i in range(len(counts))]\n",
    "    return np.concatenate(arr)\n",
    "\n",
    "# Counting the number of times every face was rolled\n",
    "\n",
    "def dice_roll_count(sample):\n",
    "    counts = np.unique(sample, return_counts=True)\n",
    "    return counts[1]    "
   ]
  },
  {
   "cell_type": "markdown",
   "metadata": {},
   "source": [
    "### $\\chi^2$ analysis"
   ]
  },
  {
   "cell_type": "markdown",
   "metadata": {},
   "source": [
    "Suppose we are given the 6-tuple $(C_1, \\dots, C_6)$ and we have to decide whether such an outcome is compatible with the null hypothesis of a fair dice. \n",
    "\n",
    "We define the test statistic $\\displaystyle \\chi^2 = \\sum_{i=1}^6 \\frac{(C_i - E[C_i])^2}{E[C_i]}$, where $E[C_i]$ is the expected count $C_i$ *assuming the null hypothesis is true*, i.e. $E[C_i] = \\frac16 \\sum_i C_i$."
   ]
  },
  {
   "cell_type": "code",
   "execution_count": 23,
   "metadata": {},
   "outputs": [],
   "source": [
    "# Function to compute the chi^2 test statistic\n",
    "\n",
    "def compute_chi2(counts):\n",
    "    expected = np.sum(counts)/6\n",
    "    summands = [(counts[i] - expected)**2 / expected for i in range(len(counts))]\n",
    "\n",
    "    return np.sum(summands)"
   ]
  },
  {
   "cell_type": "markdown",
   "metadata": {},
   "source": [
    "We sample from the multinomial distribution corresponding to a fair dice and compute the values of the test statistic for all elements in our sample. They are distributed in some way (we wouldn't even need to know, however it's a $\\chi^2$ distribution with 5 degrees of freedom) and we can look at how much towards the tails our original value is. After fixing a confidence level, we can decide whether or not to reject the null hypothesis that the dice is fair."
   ]
  },
  {
   "cell_type": "code",
   "execution_count": 215,
   "metadata": {},
   "outputs": [],
   "source": [
    "def sampling_chi2(n_samples=10000):\n",
    "    stat_values = np.empty(n_samples)\n",
    "    for i in range(n_samples):\n",
    "        stat_values[i] = compute_chi2(dice_roll_count_multinom(gen_close_weights(upto=0)))\n",
    "    \n",
    "    return stat_values\n",
    "\n",
    "def is_unfair(sampled_values, conf_lvl, obs_value):\n",
    "    crit_value = np.percentile(sampled_values, conf_lvl)\n",
    "    if obs_value >= crit_value:\n",
    "        print('At the {}% confidence level we reject the null hypothesis that the dice is fair.'.format(conf_lvl))\n",
    "    else:\n",
    "        print('The observed behaviour is compatible with the null hypothesis of a fair dice.')\n",
    "\n",
    "def plot_sampling_distribution(sampled_values, th_dist=True, conf_lvl=None, obs_value=None):\n",
    "    sns.set_style('white')\n",
    "    \n",
    "    sns.distplot(sampled_values, bins=len(sampled_values)//100, norm_hist=True, kde=False)\n",
    "    \n",
    "    if th_dist:\n",
    "        x_values = np.linspace(0, np.amax(sampled_values) + 1, num=100)\n",
    "        y_values = [(x ** (3/2) * math.exp(-x/2))/(2 ** (5/2) * math.gamma(5/2)) for x in x_values]\n",
    "        sns.lineplot(x_values, y_values, label='theoretical distribution')\n",
    "    \n",
    "    if conf_lvl != None:\n",
    "        crit_value = np.percentile(sampled_values, conf_lvl)\n",
    "        plt.axvline(crit_value, 0, 0.5, linestyle=':', color='red', label='critical value (c.l.={}%)'.format(conf_lvl))\n",
    "\n",
    "    if obs_value != None:\n",
    "        plt.axvline(obs_value, 0, 0.5, linestyle=':', color='blue', label='observed value')\n",
    "    \n",
    "    sns.despine()\n",
    "    plt.xlabel('Value of {}'.format(r'$\\chi^2$'))\n",
    "    plt.ylabel('Empirical PDF')\n",
    "    plt.legend()\n",
    "    plt.show()\n",
    "    \n",
    "    # Note the 'r' preceding the LaTeX string in plt.xlabel. Here it's superfluous, but necessary for letters such as $\\rho$, as then \\r carries meaning.\n",
    "#   # See the concept of raw string literal, https://stackoverflow.com/questions/27474322/why-i-get-error-while-trying-to-use-latex-in-plots-label"
   ]
  },
  {
   "cell_type": "markdown",
   "metadata": {},
   "source": [
    "#### A worked out example"
   ]
  },
  {
   "cell_type": "code",
   "execution_count": 219,
   "metadata": {},
   "outputs": [
    {
     "name": "stdout",
     "output_type": "stream",
     "text": [
      "Say we are presented with the counts (C_1, ..., C_6) = [1038  981 1047  990  961  983]. \n",
      "Are these compatible with the hypothesis of a fair dice?\n",
      "\n",
      "The value of the test statistic \\chi^2 for our counts is 5.9239999999999995.\n",
      "Let us now simulate tossing a truly fair dice 10000 times and compute that same quantity for each of the resulting counts.\n",
      "\n",
      "Where does our observed value of \\chi^2 lie within that distribution? \n",
      "Is that enough to the right to conclude that the dice may not be fair?\n"
     ]
    },
    {
     "data": {
      "image/png": "[encoded data removed]",
      "text/plain": [
       "<Figure size 432x288 with 1 Axes>"
      ]
     },
     "metadata": {},
     "output_type": "display_data"
    },
    {
     "name": "stdout",
     "output_type": "stream",
     "text": [
      "We need to set a confidence level and compute the corresponding critical value, beyond which we will reject the null hypothesis of a fair dice. A typical choice is to set it to 95%.\n"
     ]
    },
    {
     "data": {
      "image/png": "[encoded data removed]",
      "text/plain": [
       "<Figure size 432x288 with 1 Axes>"
      ]
     },
     "metadata": {},
     "output_type": "display_data"
    },
    {
     "name": "stdout",
     "output_type": "stream",
     "text": [
      "The observed behaviour is compatible with the null hypothesis of a fair dice.\n",
      "\n",
      "For reference, the weights used to generate the original count for our (maybe unfair) dice were [0.17199316 0.16161057 0.17386206 0.15798632 0.16708746 0.16746044]\n"
     ]
    }
   ],
   "source": [
    "weights=gen_close_weights()\n",
    "counts = dice_roll_count_multinom(weights, size=6000)\n",
    "print('Say we are presented with the counts (C_1, ..., C_6) = {}'.format(counts) + '. \\nAre these compatible ' + \n",
    "      'with the hypothesis of a fair dice?')\n",
    "obs_value = compute_chi2(counts)\n",
    "print('\\nThe value of the test statistic \\chi^2 for our counts is {}'.format(obs_value) + '.\\n' + \n",
    "     'Let us now simulate tossing a truly fair dice 10000 times and compute that same quantity for ' + \n",
    "      'each of the resulting counts.')\n",
    "\n",
    "sim_values = sampling_chi2()\n",
    "\n",
    "print('\\nWhere does our observed value of \\chi^2 lie within that distribution? \\n' +\n",
    "      'Is that enough to the right to conclude that the dice may not be fair?')\n",
    "plot_sampling_distribution(sim_values, th_dist=False, obs_value=obs_value)\n",
    "\n",
    "print('We need to set a confidence level and compute the corresponding critical value, beyond ' + \n",
    "      'which we will reject the null hypothesis of a fair dice. A typical choice is to set it to 95%.')\n",
    "\n",
    "crit_value = np.percentile(sim_values, 95)\n",
    "plot_sampling_distribution(sim_values, conf_lvl=95, obs_value=obs_value)\n",
    "\n",
    "is_unfair(sim_values, conf_lvl=95, obs_value=obs_value)\n",
    "\n",
    "print('\\nFor reference, the weights used to generate the original count for our (maybe unfair) dice ' + \n",
    "      'were {}'.format(weights))"
   ]
  },
  {
   "cell_type": "markdown",
   "metadata": {},
   "source": [
    "### Bootstrap analysis"
   ]
  },
  {
   "cell_type": "markdown",
   "metadata": {},
   "source": [
    "We could alternatively make use of bootstrap replicates:\n",
    "* A bunch of values is generated sampling from the multinomial distribution and converted into the array with $C_i$ copies of $i$, for $i=1, ..., 6$ (alternatively we could use *dice_roll* )\n",
    "* The array is resampled to produce bootstrap samples, from which the above $\\chi^2$ statistic is computed. Plotting a histograms of such values (bootstrap replicates) gives an idea of the statistic distribution.\n",
    "* Computing confidence intervals should tell us whether to reject the null hypothesis that the dice is fair."
   ]
  },
  {
   "cell_type": "markdown",
   "metadata": {},
   "source": [
    "### Bootstrapping functions"
   ]
  },
  {
   "cell_type": "markdown",
   "metadata": {},
   "source": [
    "Functions to construct bootstrap samples and bootstrap replicates from an original sample."
   ]
  },
  {
   "cell_type": "code",
   "execution_count": 256,
   "metadata": {},
   "outputs": [],
   "source": [
    "# Resample the original sample\n",
    "def BS_sample(orig_sample):\n",
    "    return gen.choice(orig_sample, size=len(orig_sample))\n",
    "\n",
    "# Compute a statistic of interest on a bootstrap sample obtained from the original one.\n",
    "def BS_replicate(orig_sample, func=compute_chi2):\n",
    "    return func(dice_roll_count(BS_sample(orig_sample)))"
   ]
  },
  {
   "cell_type": "code",
   "execution_count": 273,
   "metadata": {},
   "outputs": [
    {
     "data": {
      "text/plain": [
       "54.5"
      ]
     },
     "execution_count": 273,
     "metadata": {},
     "output_type": "execute_result"
    }
   ],
   "source": [
    "aaa = dice_roll_count_multinom(gen_close_weights())\n",
    "bbb = BS_sample(expand_counts(aaa))\n",
    "BS_replicate(expand_counts(aaa))\n",
    "del aaa, bbb"
   ]
  },
  {
   "cell_type": "markdown",
   "metadata": {},
   "source": [
    "Generate replicates and plot them in a histogram"
   ]
  },
  {
   "cell_type": "code",
   "execution_count": 280,
   "metadata": {},
   "outputs": [],
   "source": [
    "def gen_replicates(orig_sample, n_repl = 10000, func=compute_chi2):\n",
    "    replicates = np.empty(n_repl)\n",
    "    for i in range(n_repl):\n",
    "        replicates[i] = BS_replicate(orig_sample, func)\n",
    "\n",
    "    return replicates    \n",
    "    \n",
    "def plot_replicates_distribution(replicates, conf_lvl=None, obs_value=None):\n",
    "    sns.set_style('white')\n",
    "    \n",
    "    sns.distplot(replicates, bins=len(replicates)//100, norm_hist=True, kde=False)\n",
    "        \n",
    "    if conf_lvl != None:\n",
    "        crit_value = np.percentile(replicates, conf_lvl)\n",
    "        plt.axvline(crit_value, 0, 0.5, linestyle=':', color='red', label='critical value (c.l.={}%)'.format(conf_lvl))\n",
    "\n",
    "    if obs_value != None:\n",
    "        plt.axvline(obs_value, 0, 0.5, linestyle=':', color='blue', label='observed value')\n",
    "    \n",
    "    sns.despine()\n",
    "    plt.xlabel('Value of {} of the bootstrap sample'.format(r'$\\chi^2$'))\n",
    "    plt.ylabel('Empirical PDF')\n",
    "    plt.legend()\n",
    "    plt.show()   "
   ]
  },
  {
   "cell_type": "code",
   "execution_count": 306,
   "metadata": {},
   "outputs": [
    {
     "data": {
      "text/plain": [
       "array([6, 6, 1, ..., 5, 4, 4])"
      ]
     },
     "execution_count": 306,
     "metadata": {},
     "output_type": "execute_result"
    },
    {
     "data": {
      "text/plain": [
       "array([1269.578, 1269.   , 1276.746, ..., 1247.572, 1261.924, 1331.952])"
      ]
     },
     "execution_count": 306,
     "metadata": {},
     "output_type": "execute_result"
    },
    {
     "data": {
      "image/png": "[encoded data removed]",
      "text/plain": [
       "<Figure size 432x288 with 1 Axes>"
      ]
     },
     "metadata": {},
     "output_type": "display_data"
    }
   ],
   "source": [
    "aaa = dice_roll(gen_weights())\n",
    "aaa\n",
    "bbb = gen_replicates(aaa)\n",
    "bbb\n",
    "\n",
    "plot_replicates_distribution(bbb, 95, compute_chi2(dice_roll_count(aaa)))"
   ]
  },
  {
   "cell_type": "code",
   "execution_count": 285,
   "metadata": {},
   "outputs": [],
   "source": [
    "# repl = gen_replicates(dice_roll(gen_weights()))\n",
    "# compute_confint(repl);\n",
    "\n",
    "# repl = gen_replicates(dice_roll(gen_close_weights()))\n",
    "# compute_confint(repl);\n",
    "\n",
    "# repl = gen_replicates(dice_roll(gen_close_weights(upto=0)))\n",
    "# compute_confint(repl);"
   ]
  },
  {
   "cell_type": "code",
   "execution_count": null,
   "metadata": {},
   "outputs": [],
   "source": []
  },
  {
   "cell_type": "code",
   "execution_count": null,
   "metadata": {},
   "outputs": [],
   "source": []
  },
  {
   "cell_type": "code",
   "execution_count": null,
   "metadata": {},
   "outputs": [],
   "source": []
  },
  {
   "cell_type": "markdown",
   "metadata": {},
   "source": [
    "Function to compute confidence intervals (default 95%) for the statistic of interest, namely ASSD."
   ]
  },
  {
   "cell_type": "code",
   "execution_count": 79,
   "metadata": {},
   "outputs": [],
   "source": [
    "def compute_confint(replicates, percentiles=[2.5, 97.5]):\n",
    "    interval = np.percentile(replicates, percentiles)\n",
    "    print('The {0}% confidence interval for the test statistic is ({1}, {2})'.format(\n",
    "        percentiles[1]-percentiles[0], interval[0].round(3), interval[1].round(3)))\n",
    "    return interval"
   ]
  },
  {
   "cell_type": "markdown",
   "metadata": {},
   "source": [
    "### Hypothesis testing\n",
    "\n",
    "Suppose we perform the following experiment. \n",
    "Some dice is rolled a number of times: we don't know whether it is fair, we only observe the numbers that are rolled. \n",
    "We want to test the hypothesis that the dice is fair.\n",
    "\n",
    "Looking at the previous examples it is clear that there's no chance that a badly unfair dice will resemble a fair one. However, if the weights are altered by just a small amount the distributions of our ASSD are quite similar to each other."
   ]
  },
  {
   "cell_type": "code",
   "execution_count": null,
   "metadata": {},
   "outputs": [],
   "source": []
  },
  {
   "cell_type": "code",
   "execution_count": null,
   "metadata": {},
   "outputs": [],
   "source": []
  },
  {
   "cell_type": "code",
   "execution_count": null,
   "metadata": {},
   "outputs": [],
   "source": []
  },
  {
   "cell_type": "code",
   "execution_count": null,
   "metadata": {},
   "outputs": [],
   "source": []
  },
  {
   "cell_type": "markdown",
   "metadata": {},
   "source": [
    "## Constructing a DataFrame of observations"
   ]
  },
  {
   "cell_type": "code",
   "execution_count": 53,
   "metadata": {},
   "outputs": [
    {
     "data": {
      "text/plain": [
       "array([0.2199285 , 0.2598058 , 0.08012407, 0.09792432, 0.22363159,\n",
       "       0.11858571])"
      ]
     },
     "execution_count": 53,
     "metadata": {},
     "output_type": "execute_result"
    }
   ],
   "source": [
    "weights"
   ]
  },
  {
   "cell_type": "code",
   "execution_count": 54,
   "metadata": {},
   "outputs": [],
   "source": [
    "dictionary = {}\n",
    "\n",
    "for i in range(100):\n",
    "    val = pd.Series(dice_roll(weights))\n",
    "    dictionary[i] = val.value_counts()"
   ]
  },
  {
   "cell_type": "code",
   "execution_count": 55,
   "metadata": {},
   "outputs": [
    {
     "data": {
      "text/html": [
       "<div>\n",
       "<style scoped>\n",
       "    .dataframe tbody tr th:only-of-type {\n",
       "        vertical-align: middle;\n",
       "    }\n",
       "\n",
       "    .dataframe tbody tr th {\n",
       "        vertical-align: top;\n",
       "    }\n",
       "\n",
       "    .dataframe thead th {\n",
       "        text-align: right;\n",
       "    }\n",
       "</style>\n",
       "<table border=\"1\" class=\"dataframe\">\n",
       "  <thead>\n",
       "    <tr style=\"text-align: right;\">\n",
       "      <th></th>\n",
       "      <th>1</th>\n",
       "      <th>2</th>\n",
       "      <th>3</th>\n",
       "      <th>4</th>\n",
       "      <th>5</th>\n",
       "      <th>6</th>\n",
       "    </tr>\n",
       "  </thead>\n",
       "  <tbody>\n",
       "    <tr>\n",
       "      <th>0</th>\n",
       "      <td>1236</td>\n",
       "      <td>1568</td>\n",
       "      <td>442</td>\n",
       "      <td>589</td>\n",
       "      <td>1438</td>\n",
       "      <td>727</td>\n",
       "    </tr>\n",
       "    <tr>\n",
       "      <th>1</th>\n",
       "      <td>1285</td>\n",
       "      <td>1622</td>\n",
       "      <td>479</td>\n",
       "      <td>566</td>\n",
       "      <td>1331</td>\n",
       "      <td>717</td>\n",
       "    </tr>\n",
       "    <tr>\n",
       "      <th>2</th>\n",
       "      <td>1324</td>\n",
       "      <td>1541</td>\n",
       "      <td>494</td>\n",
       "      <td>608</td>\n",
       "      <td>1340</td>\n",
       "      <td>693</td>\n",
       "    </tr>\n",
       "    <tr>\n",
       "      <th>3</th>\n",
       "      <td>1268</td>\n",
       "      <td>1600</td>\n",
       "      <td>477</td>\n",
       "      <td>583</td>\n",
       "      <td>1360</td>\n",
       "      <td>712</td>\n",
       "    </tr>\n",
       "    <tr>\n",
       "      <th>4</th>\n",
       "      <td>1348</td>\n",
       "      <td>1531</td>\n",
       "      <td>499</td>\n",
       "      <td>595</td>\n",
       "      <td>1348</td>\n",
       "      <td>679</td>\n",
       "    </tr>\n",
       "    <tr>\n",
       "      <th>...</th>\n",
       "      <td>...</td>\n",
       "      <td>...</td>\n",
       "      <td>...</td>\n",
       "      <td>...</td>\n",
       "      <td>...</td>\n",
       "      <td>...</td>\n",
       "    </tr>\n",
       "    <tr>\n",
       "      <th>95</th>\n",
       "      <td>1377</td>\n",
       "      <td>1544</td>\n",
       "      <td>477</td>\n",
       "      <td>615</td>\n",
       "      <td>1263</td>\n",
       "      <td>724</td>\n",
       "    </tr>\n",
       "    <tr>\n",
       "      <th>96</th>\n",
       "      <td>1254</td>\n",
       "      <td>1613</td>\n",
       "      <td>474</td>\n",
       "      <td>589</td>\n",
       "      <td>1379</td>\n",
       "      <td>691</td>\n",
       "    </tr>\n",
       "    <tr>\n",
       "      <th>97</th>\n",
       "      <td>1354</td>\n",
       "      <td>1456</td>\n",
       "      <td>492</td>\n",
       "      <td>556</td>\n",
       "      <td>1358</td>\n",
       "      <td>784</td>\n",
       "    </tr>\n",
       "    <tr>\n",
       "      <th>98</th>\n",
       "      <td>1346</td>\n",
       "      <td>1534</td>\n",
       "      <td>522</td>\n",
       "      <td>565</td>\n",
       "      <td>1346</td>\n",
       "      <td>687</td>\n",
       "    </tr>\n",
       "    <tr>\n",
       "      <th>99</th>\n",
       "      <td>1315</td>\n",
       "      <td>1493</td>\n",
       "      <td>477</td>\n",
       "      <td>636</td>\n",
       "      <td>1338</td>\n",
       "      <td>741</td>\n",
       "    </tr>\n",
       "  </tbody>\n",
       "</table>\n",
       "<p>100 rows × 6 columns</p>\n",
       "</div>"
      ],
      "text/plain": [
       "       1     2    3    4     5    6\n",
       "0   1236  1568  442  589  1438  727\n",
       "1   1285  1622  479  566  1331  717\n",
       "2   1324  1541  494  608  1340  693\n",
       "3   1268  1600  477  583  1360  712\n",
       "4   1348  1531  499  595  1348  679\n",
       "..   ...   ...  ...  ...   ...  ...\n",
       "95  1377  1544  477  615  1263  724\n",
       "96  1254  1613  474  589  1379  691\n",
       "97  1354  1456  492  556  1358  784\n",
       "98  1346  1534  522  565  1346  687\n",
       "99  1315  1493  477  636  1338  741\n",
       "\n",
       "[100 rows x 6 columns]"
      ]
     },
     "execution_count": 55,
     "metadata": {},
     "output_type": "execute_result"
    }
   ],
   "source": [
    "df = pd.DataFrame(dictionary).transpose()\n",
    "\n",
    "df"
   ]
  },
  {
   "cell_type": "markdown",
   "metadata": {},
   "source": [
    "### Define a good test statistic\n",
    "\n",
    "We choose the sum of squares of differences between the observed number of 1's, ..., 6's and the expected number (under the assumption that the dice is fair), averaged over the size of the sample. Call it ASSD for Averaged Sum of Squares of the Difference.\n",
    "ASSD is going to be a small number if the weights are close to those of a fair dice and grow as the weights depart more and more from the standard value of 1/6."
   ]
  },
  {
   "cell_type": "code",
   "execution_count": null,
   "metadata": {},
   "outputs": [],
   "source": [
    "# def compute_ASSD(sample):\n",
    "#     size = len(sample)\n",
    "#     expected = np.array([size/6]*6)\n",
    "#     counts = np.unique(sample, return_counts=True)[1]   # use function counting unique values\n",
    "    \n",
    "#     return np.sum((counts-expected)**2)/size\n",
    "\n",
    "# The code above works, except when some value is never drawn, as at the end it'd be subtracting arrays of different lengths \n",
    "# This can happen if the likelihood of drawing 1 is e.g. 1% and the sample size is very small.\n",
    "# Tweaking it a bit solves the problem (although I have hard-coded the number of expected unique values, 6).\n",
    "\n",
    "# def compute_ASSD(sample):\n",
    "#     size = len(sample)\n",
    "#     counts = np.unique(sample, return_counts=True)[1]   # use function counting unique values\n",
    "#     expected = np.array([size/6]*len(counts))\n",
    "    \n",
    "#     return np.sum((counts-expected)**2)/size + (6 - len(counts)) * np.sum((size/6)**2)/size"
   ]
  },
  {
   "cell_type": "markdown",
   "metadata": {},
   "source": [
    "**Note for improvement**: Maybe remove the hard-coded bit?\n",
    "\n",
    "Note that the size of the sample is crucial: whereas gross deviations from standard weights always result in large values of ASSD, if the sample is small enough a slightly unfair dice might perform better that a fair one."
   ]
  },
  {
   "cell_type": "code",
   "execution_count": null,
   "metadata": {},
   "outputs": [],
   "source": [
    "# w = gen_weights()\n",
    "# print('Weights: {}'.format(w) + '        ASSD: {}'.format(compute_ASSD(dice_roll(w, size=3000))))\n",
    "# w = gen_close_weights()\n",
    "# print('Weights: {}'.format(w) + '        ASSD: {}'.format(compute_ASSD(dice_roll(w, size=3000))))\n",
    "# w = gen_close_weights(upto=0)\n",
    "# print('Weights: {}'.format(w) + '        ASSD: {}'.format(compute_ASSD(dice_roll(w, size=3000))))\n",
    "\n",
    "# del w"
   ]
  }
 ],
 "metadata": {
  "kernelspec": {
   "display_name": "Python 3",
   "language": "python",
   "name": "python3"
  },
  "language_info": {
   "codemirror_mode": {
    "name": "ipython",
    "version": 3
   },
   "file_extension": ".py",
   "mimetype": "text/x-python",
   "name": "python",
   "nbconvert_exporter": "python",
   "pygments_lexer": "ipython3",
   "version": "3.7.6"
  }
 },
 "nbformat": 4,
 "nbformat_minor": 4
}
